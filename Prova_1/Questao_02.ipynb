{
 "cells": [
  {
   "cell_type": "markdown",
   "metadata": {},
   "source": [
    "# Questão 02:\n",
    "\n",
    "Considere uma micro-população de tamanho N = 15 e uma sequência de 15 realizações de uma variável uniforme dada a seguir. Além disso, admita que o valor da probabilidade de inclusão de primeira ordem, para cada elemento dessa micro-população, é dada por $\\pi = 0.4$. Leia com atenção a descrição do algoritmo para seleção de uma amostra aleatória simples, sem reposição, proposto por **Fan, Müller, e Rezucha**, fornecido no formulário desta prova, e responda o que se pede.\n",
    "\n",
    "| 0.620 | 0.562 | 0.392 | 0.203 | 0.689 | 0.839 | 0.307 | 0.551 | 0.014 | 0.854 | 0.782 | 0.478 | 0.847 | 0.236 | 0.757 |\n",
    "|:-----:|:-----:|:-----:|:-----:|:-----:|:-----:|:-----:|:-----:|:-----:|:-----:|:-----:|:-----:|:-----:|:-----:|:-----:|\n",
    "\n",
    "**(a)** Aplique o algoritmo na população fornecida na questão. Qual for o tamanho de amostra selecionado e quais os elementos da população foram selecionados?"
   ]
  },
  {
   "cell_type": "markdown",
   "metadata": {},
   "source": [
    "Primeiramente, é preciso determinar $n$. Para o plano de amostragem aleatória simples sem reposição, temos que $\\pi_{k} = \\large{\\frac{n}{N}}$. Com os dados fornecidos, $0.4 = \\large{\\frac{n}{15}}$. Portanto, $n = 0.4 \\times 15 = 6$.\n",
    " \n",
    " - **Algoritmo de Fan, Müller, e Rezucha (1962):** considere uma série de realizações independentes de uma variável aleatória Uniforme (0,1):\n",
    " \n",
    "     {$\\epsilon_{1}, \\epsilon_{2}, \\epsilon_{3}, ...$}\n",
    "\n",
    "1. Se $\\epsilon_{1} < \\large{\\frac{n}{N}}$, então $k = 1 \\in S$. Senão, $k = 1 \\notin S$.\n",
    "2. Para $k \\ge 2$, temos que:\n",
    "    Se $\\epsilon_{k} < \\large{\\frac{n - n_{k}}{N - k + 1}}$, então $k \\in S$. Senão, $k \\notin S$.\n",
    "3. Se $n_{k} = n$, pare. Senão, faça $k = k + 1$ e volte ao passo 2. $n_{k}$ é o número de elementos selecionados para compor a amostra dentre os primeiros $k - 1$ elementos listados no cadastro.\n",
    " \n",
    "**Implementação do algoritmo:**\n",
    " \n",
    "$k = 1$: Temos que $\\epsilon_{1} = 0.620$ e $\\large{\\frac{n}{N}}$ $=$  $\\large{\\frac{6}{15}}$ $=$ $0.4$. Logo, $ k = 1 \\notin S$.\n",
    "\n",
    "$k = 2$: Temos que $\\epsilon_{2} = 0.562$ e $\\large{\\frac{n - n_{k}}{N - k + 1}} = \\frac{6}{14}$ = $0.428$. Logo, $ k = 2 \\notin S$.\n",
    "\n",
    "$k = 3$: Temos que $\\epsilon_{3} = 0.392$ e $\\large{\\frac{n - n_{k}}{N - k + 1}} = \\frac{6}{13}$ $ = 0.461$. Logo, $ k = 3 \\in S$.\n",
    "\n",
    "$k = 4$: Temos que $\\epsilon_{4} = 0.203$ e $\\large{\\frac{n - n_{k}}{N - k + 1}} = \\frac{5}{12}$ $ = 0.417$. Logo, $ k = 4 \\in S$.\n",
    "\n",
    "$k = 5$: Temos que $\\epsilon_{5} = 0.689$ e $\\large{\\frac{n - n_{k}}{N - k + 1}} = \\frac{4}{11}$ $ = 0.364$. Logo, $ k = 5 \\notin S$.\n",
    "\n",
    "$k = 6$: Temos que $\\epsilon_{6} = 0.839$ e $\\large{\\frac{n - n_{k}}{N - k + 1}} = \\frac{4}{10}$ $ = 0.4$. Logo, $ k = 6 \\notin S$.\n",
    "\n",
    "$k = 7$: Temos que $\\epsilon_{7} = 0.307$ e $\\large{\\frac{n - n_{k}}{N - k + 1}} = \\frac{4}{9}$ $ = 0.444$. Logo, $ k = 7 \\in S$.\n",
    "\n",
    "$k = 8$: Temos que $\\epsilon_{8} = 0.551$ e $\\large{\\frac{n - n_{k}}{N - k + 1}} = \\frac{3}{8}$ $ = 0.375$. Logo, $ k = 8 \\notin S$.\n",
    "\n",
    "$k = 9$: Temos que $\\epsilon_{9} = 0.014$ e $\\large{\\frac{n - n_{k}}{N - k + 1}} = \\frac{3}{7}$ $ = 0.418$. Logo, $ k = 9 \\in S$.\n",
    "\n",
    "$k = 10$: Temos que $\\epsilon_{10} = 0.854$ e $\\large{\\frac{n - n_{k}}{N - k + 1}} = \\frac{2}{6}$ $ = 0.333$. Logo, $ k = 10 \\notin S$.\n",
    "\n",
    "$k = 11$: Temos que $\\epsilon_{11} = 0.782$ e $\\large{\\frac{n - n_{k}}{N - k + 1}} = \\frac{2}{5}$ $= 0.4$. Logo, $ k = 11 \\notin S$.\n",
    "\n",
    "$k = 12$: Temos que $\\epsilon_{12} = 0.478$ e $\\large{\\frac{n - n_{k}}{N - k + 1}} = \\frac{2}{4}$ $= 0.5$. Logo, $ k = 12 \\in S$.\n",
    "\n",
    "$k = 13$: Temos que $\\epsilon_{13} = 0.847$ e $\\large{\\frac{n - n_{k}}{N - k + 1}} = \\frac{1}{3}$ $ = 0.333$. Logo, $ k = 13 \\notin S$.\n",
    "\n",
    "$k = 14$: Temos que $\\epsilon_{14} = 0.236$ e $\\large{\\frac{n - n_{k}}{N - k + 1}} = \\frac{1}{2}$ $= 0.5$. Logo, $ k = 14 \\in S$.\n",
    "\n",
    "$k = 15$: $n_{15} = n = 6$. Logo, o algoritmo para aqui.\n",
    "\n",
    "Portanto, a amostra aleatória é $S = $ {$3,4,7,9,12,14$}."
   ]
  },
  {
   "cell_type": "markdown",
   "metadata": {},
   "source": [
    "**(b)** Qual seria uma crítica relevante a considerar quando se observa a descrição da questão e a implementação do algorimo feita por você?"
   ]
  },
  {
   "cell_type": "code",
   "execution_count": null,
   "metadata": {},
   "outputs": [],
   "source": []
  }
 ],
 "metadata": {
  "kernelspec": {
   "display_name": "Python 3",
   "language": "python",
   "name": "python3"
  },
  "language_info": {
   "codemirror_mode": {
    "name": "ipython",
    "version": 3
   },
   "file_extension": ".py",
   "mimetype": "text/x-python",
   "name": "python",
   "nbconvert_exporter": "python",
   "pygments_lexer": "ipython3",
   "version": "3.7.0"
  }
 },
 "nbformat": 4,
 "nbformat_minor": 2
}
