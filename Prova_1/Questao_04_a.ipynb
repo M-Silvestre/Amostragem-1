{
 "cells": [
  {
   "cell_type": "markdown",
   "metadata": {},
   "source": [
    "# Questão 04\n",
    "\n",
    "O estimador de **Hansen-Hurwitz** (Estimador HH) é um estimador utilizado principalmente em situações em que as probabilidades de inclusão de primeira ordem não são iguais, e ainda, é um estimador muito utilizado para esquemas de amostragem com reposição, admitindo 'm' realizações do sorteio com reposição. Admita a situação em que $m = n$ (ou seja, sem duplicatas na amostra), e ainda que $\\pi_{k} = n p_{k}$, em que $p_{k}$ é a probabilidade de inclusão do $k$-ésimo elemento da população. A fórmula do estimador de Hansen-Hurtwitz para a média populacional ($\\bar{y}_{U}$), bem como dua respectiva variância e estimativa de variância são dados por:\n",
    "\n",
    "$\\hat{\\bar{y}}_{U} = \\large{\\frac{\\hat{t}_{y}}{N}} = \\large{\\frac{\\sum_{k \\in S}^{} \\frac{y_{k}}{\\pi_{k}}}{N}} $\n",
    "\n",
    "$Var(\\hat{\\bar{y}}_{U}) = \\large{\\frac{\\frac{1}{n} \\sum_{k \\in S}^{} \\pi_{k} (\\frac{y_{k}}{\\pi_{k}} - t_{y})^2}{N^2}}$\n",
    "\n",
    "$\\hat{Var}(\\hat{\\bar{y}}_{U}) = \\large{\\frac{\\frac{1}{n} \\sum_{k \\in S}^{} \\pi_{k} (\\frac{y_{k}}{\\pi_{k}} - \\hat{t}_{y})^2}{N^2}}$\n",
    "\n",
    "**a)** Considerando o esquema proposto na questão, note que $p_{k} = \\frac{1}{N}, \\forall  k = 1,2,...,N$. Nesas condições, o estimador HH é centrado para a média populacional? Justifique sua resposta."
   ]
  },
  {
   "cell_type": "markdown",
   "metadata": {},
   "source": [
    "Sim, o estimador HH é centrado para a média populacional. Aplicando nele o valor esperado:\n",
    "\n",
    "$ E(\\hat{\\bar{y}}_{U}) = E(\\large{\\frac{\\sum_{k \\in S}^{} \\frac{y_{k}}{\\pi_{k}}}{N}}) $"
   ]
  },
  {
   "cell_type": "markdown",
   "metadata": {},
   "source": [
    "Pelas propriedades do valor esperado:\n",
    "\n",
    "$ E(\\hat{\\bar{y}}_{U}) = \\large{\\frac{1}{N}} E(\\sum_{k \\in S}^{} \\frac{y_{k}}{\\pi_{k}}) $"
   ]
  },
  {
   "cell_type": "code",
   "execution_count": null,
   "metadata": {},
   "outputs": [],
   "source": [
    "Fazendo visível a função indicadora de cada elemento pertencer à amostra:\n",
    "\n",
    "$ E(\\hat{\\bar{y}}_{U}) = \\large{\\frac{1}{N}} E(\\large{\\sum_{k \\in U}^{} \\frac{y_{k} I_{k}}{\\pi_{k}}}) $"
   ]
  },
  {
   "cell_type": "markdown",
   "metadata": {},
   "source": [
    "Como a indicadora é a única variável aleatória em questão:\n",
    "    \n",
    "$ E(\\hat{\\bar{y}}_{U}) = \\large{\\frac{1}{N}} \\large{\\sum_{k \\in U}^{} \\frac{y_{k}}{\\pi_{k}}} E(I_{k}) $"
   ]
  },
  {
   "cell_type": "markdown",
   "metadata": {},
   "source": [
    "Como o valor esperado da indicadora corresponde à probabilidade de inclusão de primeira ordem de cada elemento da população:\n",
    "\n",
    "$ E(\\hat{\\bar{y}}_{U}) = \\large{\\frac{1}{N}} \\sum_{k \\in U}^{} \\large{\\frac{y_{k}}{\\pi_{k}}} \\pi_{k} $\n",
    "\n",
    "$ E(\\hat{\\bar{y}}_{U}) = \\large{\\frac{1}{N}} \\sum_{k \\in U}^{} y_{k}  = \\large{\\frac{1}{N}} t_{y} = \\bar{y}_{U}$\n",
    "\n",
    "Portanto, como o valor esperado do estimador é igual ao valor do parâmetro da população, pode-se afirmar que o estimador HH é centrado em relação à média populacional."
   ]
  },
  {
   "cell_type": "code",
   "execution_count": null,
   "metadata": {},
   "outputs": [],
   "source": []
  }
 ],
 "metadata": {
  "kernelspec": {
   "display_name": "Python 3",
   "language": "python",
   "name": "python3"
  },
  "language_info": {
   "codemirror_mode": {
    "name": "ipython",
    "version": 3
   },
   "file_extension": ".py",
   "mimetype": "text/x-python",
   "name": "python",
   "nbconvert_exporter": "python",
   "pygments_lexer": "ipython3",
   "version": "3.7.0"
  }
 },
 "nbformat": 4,
 "nbformat_minor": 2
}
